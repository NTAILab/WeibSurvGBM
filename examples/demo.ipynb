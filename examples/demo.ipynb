{
 "cells": [
  {
   "cell_type": "code",
   "execution_count": null,
   "metadata": {},
   "outputs": [],
   "source": [
    "import numpy as np\n",
    "\n",
    "from sklearn.model_selection import train_test_split\n",
    "import matplotlib.pyplot as plt\n",
    "\n",
    "from weib_surv_gbm.model import GBMSurvivalParamModel"
   ]
  },
  {
   "cell_type": "markdown",
   "metadata": {},
   "source": [
    "# Example"
   ]
  },
  {
   "cell_type": "code",
   "execution_count": 2,
   "metadata": {},
   "outputs": [],
   "source": [
    "np.random.seed(42)\n",
    "\n",
    "n_samples = 10000\n",
    "n_features = 5\n",
    "\n",
    "features = np.random.rand(n_samples, n_features)\n",
    "\n",
    "lambda_1 = 1\n",
    "lambda_2 = 10\n",
    "\n",
    "x1_pos = np.floor((np.sin(features[:, 0] * np.pi - np.pi/2) + np.pi/2) / np.pi * 3).astype(int)\n",
    "x2_pos = np.floor((np.sin(features[:, 3] * np.pi - np.pi/2) + np.pi/2) / np.pi * 3).astype(int)\n",
    "\n",
    "x1_pos = np.clip(x1_pos, 0, 2)\n",
    "x2_pos = np.clip(x2_pos, 0, 2)\n",
    "\n",
    "pattern = (x1_pos + x2_pos) % 2\n",
    "lambda_val = np.where(pattern == 0, lambda_1, lambda_2) / 100\n",
    "\n",
    "coefficients = np.array([10, 0.1, 1.e-7, -0.15, 1.e-7])\n",
    "v = 5\n",
    "U = np.random.uniform(0, 1, n_samples)\n",
    "\n",
    "time = (-np.log(U) / (lambda_val)) ** (1/v) \n",
    "\n",
    "delta = np.random.choice([0, 1], size=n_samples, p=[0.2, 0.8])"
   ]
  },
  {
   "cell_type": "code",
   "execution_count": 3,
   "metadata": {},
   "outputs": [],
   "source": [
    "target = np.zeros((2, len(time)))\n",
    "target[1] = time\n",
    "\n",
    "target[0] = delta\n",
    "target = target.transpose()\n",
    "\n",
    "target = np.array(list(map(tuple, target)), dtype=[('delta', '?'), ('time', 'f8')])"
   ]
  },
  {
   "cell_type": "code",
   "execution_count": 4,
   "metadata": {},
   "outputs": [],
   "source": [
    "X_train, X_test, y_train, y_test = train_test_split(features, target, test_size=0.2, random_state=42)"
   ]
  },
  {
   "cell_type": "code",
   "execution_count": 5,
   "metadata": {},
   "outputs": [
    {
     "name": "stdout",
     "output_type": "stream",
     "text": [
      "[0]\td_train-SurvivalLoss:8.86052\n",
      "[1]\td_train-SurvivalLoss:8.84232\n",
      "[2]\td_train-SurvivalLoss:8.82344\n",
      "[3]\td_train-SurvivalLoss:8.80372\n",
      "[4]\td_train-SurvivalLoss:8.78309\n",
      "[5]\td_train-SurvivalLoss:8.76129\n",
      "[6]\td_train-SurvivalLoss:8.73838\n",
      "[7]\td_train-SurvivalLoss:8.71431\n",
      "[8]\td_train-SurvivalLoss:8.68893\n",
      "[9]\td_train-SurvivalLoss:8.66239\n",
      "[10]\td_train-SurvivalLoss:8.63465\n",
      "[11]\td_train-SurvivalLoss:8.60577\n",
      "[12]\td_train-SurvivalLoss:8.57586\n",
      "[13]\td_train-SurvivalLoss:8.54499\n",
      "[14]\td_train-SurvivalLoss:8.51301\n",
      "[15]\td_train-SurvivalLoss:8.48020\n",
      "[16]\td_train-SurvivalLoss:8.44645\n",
      "[17]\td_train-SurvivalLoss:8.41205\n",
      "[18]\td_train-SurvivalLoss:8.37693\n",
      "[19]\td_train-SurvivalLoss:8.34120\n",
      "[20]\td_train-SurvivalLoss:8.30500\n",
      "[21]\td_train-SurvivalLoss:8.26837\n",
      "[22]\td_train-SurvivalLoss:8.23141\n",
      "[23]\td_train-SurvivalLoss:8.19430\n",
      "[24]\td_train-SurvivalLoss:8.15723\n",
      "[25]\td_train-SurvivalLoss:8.12013\n",
      "[26]\td_train-SurvivalLoss:8.08318\n",
      "[27]\td_train-SurvivalLoss:8.04663\n",
      "[28]\td_train-SurvivalLoss:8.01045\n",
      "[29]\td_train-SurvivalLoss:7.97486\n",
      "[30]\td_train-SurvivalLoss:7.94003\n",
      "[31]\td_train-SurvivalLoss:7.90604\n",
      "[32]\td_train-SurvivalLoss:7.87305\n",
      "[33]\td_train-SurvivalLoss:7.84119\n",
      "[34]\td_train-SurvivalLoss:7.81061\n",
      "[35]\td_train-SurvivalLoss:7.78137\n",
      "[36]\td_train-SurvivalLoss:7.75362\n",
      "[37]\td_train-SurvivalLoss:7.72722\n",
      "[38]\td_train-SurvivalLoss:7.70262\n",
      "[39]\td_train-SurvivalLoss:7.67951\n",
      "[40]\td_train-SurvivalLoss:7.65809\n",
      "[41]\td_train-SurvivalLoss:7.63825\n",
      "[42]\td_train-SurvivalLoss:7.62008\n",
      "[43]\td_train-SurvivalLoss:7.60296\n",
      "[44]\td_train-SurvivalLoss:7.58756\n",
      "[45]\td_train-SurvivalLoss:7.57283\n",
      "[46]\td_train-SurvivalLoss:7.55957\n",
      "[47]\td_train-SurvivalLoss:7.54703\n",
      "[48]\td_train-SurvivalLoss:7.53601\n",
      "[49]\td_train-SurvivalLoss:7.52610\n",
      "[50]\td_train-SurvivalLoss:7.51773\n",
      "[51]\td_train-SurvivalLoss:7.50936\n",
      "[52]\td_train-SurvivalLoss:7.50226\n",
      "[53]\td_train-SurvivalLoss:7.49674\n",
      "[54]\td_train-SurvivalLoss:7.49062\n",
      "[55]\td_train-SurvivalLoss:7.48581\n",
      "[56]\td_train-SurvivalLoss:7.48158\n",
      "[57]\td_train-SurvivalLoss:7.47707\n",
      "[58]\td_train-SurvivalLoss:7.47324\n",
      "[59]\td_train-SurvivalLoss:7.46987\n",
      "[60]\td_train-SurvivalLoss:7.46810\n",
      "[61]\td_train-SurvivalLoss:7.46682\n",
      "[62]\td_train-SurvivalLoss:7.46512\n",
      "[63]\td_train-SurvivalLoss:7.46413\n",
      "[64]\td_train-SurvivalLoss:7.46377\n",
      "[65]\td_train-SurvivalLoss:7.46359\n",
      "[66]\td_train-SurvivalLoss:7.46316\n",
      "[67]\td_train-SurvivalLoss:7.46302\n",
      "[68]\td_train-SurvivalLoss:7.46261\n",
      "[69]\td_train-SurvivalLoss:7.46270\n",
      "[70]\td_train-SurvivalLoss:7.46287\n",
      "[71]\td_train-SurvivalLoss:7.46327\n",
      "[72]\td_train-SurvivalLoss:7.46352\n",
      "[73]\td_train-SurvivalLoss:7.46379\n",
      "[74]\td_train-SurvivalLoss:7.46359\n",
      "[75]\td_train-SurvivalLoss:7.46319\n",
      "[76]\td_train-SurvivalLoss:7.46387\n",
      "[77]\td_train-SurvivalLoss:7.46373\n",
      "[78]\td_train-SurvivalLoss:7.46340\n",
      "[79]\td_train-SurvivalLoss:7.46361\n",
      "[80]\td_train-SurvivalLoss:7.46380\n",
      "[81]\td_train-SurvivalLoss:7.46419\n",
      "[82]\td_train-SurvivalLoss:7.46318\n",
      "[83]\td_train-SurvivalLoss:7.46346\n",
      "[84]\td_train-SurvivalLoss:7.46508\n",
      "[85]\td_train-SurvivalLoss:7.46367\n",
      "[86]\td_train-SurvivalLoss:7.46321\n",
      "[87]\td_train-SurvivalLoss:7.46215\n",
      "[88]\td_train-SurvivalLoss:7.46165\n",
      "[89]\td_train-SurvivalLoss:7.46064\n",
      "[90]\td_train-SurvivalLoss:7.45914\n",
      "[91]\td_train-SurvivalLoss:7.45799\n",
      "[92]\td_train-SurvivalLoss:7.45698\n",
      "[93]\td_train-SurvivalLoss:7.45549\n",
      "[94]\td_train-SurvivalLoss:7.45482\n",
      "[95]\td_train-SurvivalLoss:7.45402\n",
      "[96]\td_train-SurvivalLoss:7.45348\n",
      "[97]\td_train-SurvivalLoss:7.45260\n",
      "[98]\td_train-SurvivalLoss:7.45185\n",
      "[99]\td_train-SurvivalLoss:7.45032\n"
     ]
    },
    {
     "data": {
      "text/plain": [
       "<gbm_survival.model.GBMSurvivalParamModel at 0x7f45c7046ea0>"
      ]
     },
     "execution_count": 5,
     "metadata": {},
     "output_type": "execute_result"
    }
   ],
   "source": [
    "model = GBMSurvivalParamModel()\n",
    "\n",
    "model.fit(X_train, y_train)"
   ]
  },
  {
   "cell_type": "code",
   "execution_count": 6,
   "metadata": {},
   "outputs": [],
   "source": [
    "predicted_proba = model.predict(X_test)"
   ]
  },
  {
   "cell_type": "code",
   "execution_count": 7,
   "metadata": {},
   "outputs": [
    {
     "data": {
      "text/plain": [
       "[<matplotlib.lines.Line2D at 0x7f45c70a2c00>]"
      ]
     },
     "execution_count": 7,
     "metadata": {},
     "output_type": "execute_result"
    },
    {
     "data": {
      "image/png": "[encoded data removed]",
      "text/plain": [
       "<Figure size 640x480 with 1 Axes>"
      ]
     },
     "metadata": {},
     "output_type": "display_data"
    }
   ],
   "source": [
    "plt.plot(model._times, predicted_proba[2])"
   ]
  },
  {
   "cell_type": "code",
   "execution_count": 8,
   "metadata": {},
   "outputs": [
    {
     "data": {
      "text/plain": [
       "[<matplotlib.lines.Line2D at 0x7f4514cc9f10>]"
      ]
     },
     "execution_count": 8,
     "metadata": {},
     "output_type": "execute_result"
    },
    {
     "data": {
      "image/png": "[encoded data removed]",
      "text/plain": [
       "<Figure size 640x480 with 1 Axes>"
      ]
     },
     "metadata": {},
     "output_type": "display_data"
    }
   ],
   "source": [
    "cumulative_proba = np.cumsum(predicted_proba, axis=1)\n",
    "\n",
    "survival_function = 1 - cumulative_proba\n",
    "\n",
    "plt.plot(model._times, survival_function[2])"
   ]
  },
  {
   "cell_type": "code",
   "execution_count": 9,
   "metadata": {},
   "outputs": [
    {
     "data": {
      "text/plain": [
       "np.float64(0.6959735067494384)"
      ]
     },
     "execution_count": 9,
     "metadata": {},
     "output_type": "execute_result"
    }
   ],
   "source": [
    "model.score(X_test, y_test)"
   ]
  },
  {
   "cell_type": "code",
   "execution_count": 10,
   "metadata": {},
   "outputs": [
    {
     "data": {
      "text/plain": [
       "{'learning_rate': 0.1,\n",
       " 'n_estimators': 100,\n",
       " 'max_depth': 7,\n",
       " 'random_seed': 42,\n",
       " 'lambda_val': 1,\n",
       " 'alpha': 0,\n",
       " 'colsample_bytree': 1,\n",
       " 'colsample_bylevel': 1,\n",
       " 'colsample_bynode': 1,\n",
       " 'max_leaves': 0,\n",
       " 'max_bin': 256,\n",
       " 'min_child_weight': 1,\n",
       " 'subsample': 1,\n",
       " 'initial_lambda_by_mean': False,\n",
       " 'initial_k': None}"
      ]
     },
     "execution_count": 10,
     "metadata": {},
     "output_type": "execute_result"
    }
   ],
   "source": [
    "model.get_params()"
   ]
  }
 ],
 "metadata": {
  "kernelspec": {
   "display_name": "WeibSurvGBM",
   "language": "python",
   "name": "python3"
  },
  "language_info": {
   "codemirror_mode": {
    "name": "ipython",
    "version": 3
   },
   "file_extension": ".py",
   "mimetype": "text/x-python",
   "name": "python",
   "nbconvert_exporter": "python",
   "pygments_lexer": "ipython3",
   "version": "3.12.9"
  }
 },
 "nbformat": 4,
 "nbformat_minor": 2
}
